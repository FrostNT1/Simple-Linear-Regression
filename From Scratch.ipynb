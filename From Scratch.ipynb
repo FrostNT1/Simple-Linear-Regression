{
 "cells": [
  {
   "cell_type": "markdown",
   "metadata": {},
   "source": [
    "# Simple Linear Regression From Scratch\n",
    "\n",
    "In this notebook I make a Regression Model from scratch to show how the Model really works.<br>\n",
    "(Do not take this to be an exact model of how Linear Regression Models are. This is just my way of representing them.)"
   ]
  },
  {
   "cell_type": "markdown",
   "metadata": {},
   "source": [
    "## Importing Libraires"
   ]
  },
  {
   "cell_type": "code",
   "execution_count": 1,
   "metadata": {},
   "outputs": [],
   "source": [
    "import random\n",
    "import csv\n",
    "from math import sqrt"
   ]
  },
  {
   "cell_type": "markdown",
   "metadata": {},
   "source": [
    "## Importing the dataset\n",
    "\n",
    "Here we define how loading a CSV file is going to take place"
   ]
  },
  {
   "cell_type": "code",
   "execution_count": 2,
   "metadata": {},
   "outputs": [],
   "source": [
    "def load_csv(file):\n",
    "    data = []\n",
    "    with open(file, 'r') as file:\n",
    "        read = csv.reader(file)\n",
    "        for row in read:\n",
    "            if row:\n",
    "                data.append(row)\n",
    "    return data"
   ]
  },
  {
   "cell_type": "markdown",
   "metadata": {},
   "source": [
    "We have to be careful, as this data is in string format.<br>\n",
    "So to make this data into float type"
   ]
  },
  {
   "cell_type": "markdown",
   "metadata": {},
   "source": [
    "## Splitting the dataset"
   ]
  },
  {
   "cell_type": "code",
   "execution_count": 3,
   "metadata": {},
   "outputs": [],
   "source": [
    "def train_test_split(data, split):\n",
    "    train = []\n",
    "    size = len(data) * split\n",
    "    test = list(data)    # Since python tags variable we pass the data through the list()\n",
    "    while len(train) < size:\n",
    "        index = random.randrange(len(test))\n",
    "        train.append(test.pop(index))\n",
    "    return train, test"
   ]
  },
  {
   "cell_type": "markdown",
   "metadata": {},
   "source": [
    "## Scoring function / Metric"
   ]
  },
  {
   "cell_type": "code",
   "execution_count": 4,
   "metadata": {},
   "outputs": [],
   "source": [
    "def metric(real, pred):\n",
    "    error = 0.0\n",
    "    for i in range(len(real)):\n",
    "        error += ((pred[i] - float(real[i])) ** 2)\n",
    "    mean_error = float(error / len(real))\n",
    "    return sqrt(mean_error)"
   ]
  },
  {
   "cell_type": "code",
   "execution_count": 5,
   "metadata": {},
   "outputs": [],
   "source": [
    "def evaluate(data, algo, split):\n",
    "    train, test = train_test_split(data, split)\n",
    "    test_set = []\n",
    "    for row in test:\n",
    "        row_copy = list(row)\n",
    "        row_copy[-1] = None\n",
    "        test_set.append(row_copy)\n",
    "    pred = algo(train, test_set)\n",
    "    real = [row[-1] for row in test]\n",
    "    return metric(real, pred)"
   ]
  },
  {
   "cell_type": "markdown",
   "metadata": {},
   "source": [
    "## Covariance function"
   ]
  },
  {
   "cell_type": "code",
   "execution_count": 6,
   "metadata": {},
   "outputs": [],
   "source": [
    "def covar(x, mean_x, y, mean_y):\n",
    "    cov = 0.0\n",
    "    for i in range(len(x)):\n",
    "        cov += (x[i] - mean_x) * (y[i] - mean_y)\n",
    "    return cov"
   ]
  },
  {
   "cell_type": "code",
   "execution_count": 7,
   "metadata": {},
   "outputs": [],
   "source": [
    "def var(val, mean):\n",
    "    return sum([(x - mean) ** 2 for x in val])"
   ]
  },
  {
   "cell_type": "markdown",
   "metadata": {},
   "source": [
    "## Coefficient function"
   ]
  },
  {
   "cell_type": "code",
   "execution_count": 8,
   "metadata": {},
   "outputs": [],
   "source": [
    "def coeff(data):\n",
    "    x = [float(row[0]) for row in data]\n",
    "    y = [float(row[1]) for row in data]\n",
    "    mean_x = float(sum(x) / len(x))\n",
    "    mean_y = float(sum(y) / len(y))\n",
    "    a = covar(x, mean_x, y, mean_y) / var(x, mean_x)\n",
    "    b = mean_y - a * mean_x\n",
    "    return b, a"
   ]
  },
  {
   "cell_type": "markdown",
   "metadata": {},
   "source": [
    "## Finally, Creating the Algo"
   ]
  },
  {
   "cell_type": "code",
   "execution_count": 9,
   "metadata": {},
   "outputs": [],
   "source": [
    "def SLR(train, test):\n",
    "    pred = []\n",
    "    b, a = coeff(train)\n",
    "    for row in test:\n",
    "        delta = b + (a * float(row[0]))\n",
    "        pred.append(delta)\n",
    "    return pred"
   ]
  },
  {
   "cell_type": "markdown",
   "metadata": {},
   "source": [
    "# Running the algorithm"
   ]
  },
  {
   "cell_type": "code",
   "execution_count": 10,
   "metadata": {},
   "outputs": [
    {
     "name": "stdout",
     "output_type": "stream",
     "text": [
      "6815.104029905253\n"
     ]
    }
   ],
   "source": [
    "df = load_csv(\"Salary_Data.csv\")\n",
    "split = 0.8\n",
    "score = evaluate(df, SLR, split)\n",
    "print(score)"
   ]
  },
  {
   "cell_type": "code",
   "execution_count": 11,
   "metadata": {},
   "outputs": [
    {
     "name": "stdout",
     "output_type": "stream",
     "text": [
      "[42289.99635894255, 48687.591375623524, 57827.01282802491, 65138.54998994602, 69708.2607161467, 100782.29365431143]\n"
     ]
    }
   ],
   "source": [
    "train, test = train_test_split(df, 0.8)\n",
    "print(SLR(train, test))"
   ]
  },
  {
   "cell_type": "markdown",
   "metadata": {},
   "source": [
    "### You can compare the above values to see how the Model performed"
   ]
  }
 ],
 "metadata": {
  "kernelspec": {
   "display_name": "Python 3",
   "language": "python",
   "name": "python3"
  },
  "language_info": {
   "codemirror_mode": {
    "name": "ipython",
    "version": 3
   },
   "file_extension": ".py",
   "mimetype": "text/x-python",
   "name": "python",
   "nbconvert_exporter": "python",
   "pygments_lexer": "ipython3",
   "version": "3.7.6"
  }
 },
 "nbformat": 4,
 "nbformat_minor": 4
}
